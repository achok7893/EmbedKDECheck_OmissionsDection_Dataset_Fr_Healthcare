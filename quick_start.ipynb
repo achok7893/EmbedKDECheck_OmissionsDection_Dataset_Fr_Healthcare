{
 "cells": [
  {
   "cell_type": "markdown",
   "metadata": {},
   "source": [
    "# IMPORT FTW2V MODULES"
   ]
  },
  {
   "cell_type": "code",
   "execution_count": null,
   "metadata": {},
   "outputs": [],
   "source": [
    "from util_functions import clone_folder_from_git\n",
    "import sys\n",
    "import os\n",
    "\n",
    "\n",
    "clone_folder_from_git(\"https://github.com/achok7893/ftw2v_embeddings_nlp_model.git\", \"ftw2v_modules\", \"./imported_modules\")\n",
    "\n",
    "module_path = os.path.abspath(\"./imported_modules\")\n",
    "if module_path not in sys.path:\n",
    "    sys.path.insert(0, module_path) "
   ]
  },
  {
   "cell_type": "markdown",
   "metadata": {},
   "source": [
    "# GET THE DATESET WITH FICTIVE MEDICAL REPORTS AND SUMMARIES"
   ]
  },
  {
   "cell_type": "code",
   "execution_count": null,
   "metadata": {},
   "outputs": [],
   "source": [
    "import pandas as pd\n",
    "\n",
    "# Login using e.g. `huggingface-cli login` to access this dataset\n",
    "df = pd.read_json(\"hf://datasets/AchOk78/LLMgenerated_fictive_medical_report_and_summaries_with_omissions_label_Fr_Healthcare/synthetic data.json\", lines=True)"
   ]
  },
  {
   "cell_type": "markdown",
   "metadata": {},
   "source": [
    "# EXECUTE EMBED2KDE TO PREDICT OMISSIONS"
   ]
  },
  {
   "cell_type": "code",
   "execution_count": null,
   "metadata": {},
   "outputs": [],
   "source": [
    "import util_embed2kde_ftw2v as util_embed2kde_ftw2v\n",
    "\n",
    "df[\"pred by ftw2v2kde\"] = df.apply(lambda x: util_embed2kde_ftw2v.get_prediction_with_embed2kde_ftw2v(x[\"fictive_cr\"], x[\"summary\"]), axis=1)\n",
    "df[\"is omission by ftw2v2kde\"] = df.apply(lambda x: util_embed2kde_ftw2v.get_prediction_with_embed2kde_ftw2v(x[\"fictive_cr\"], x[\"summary\"])[\"is omission\"], axis=1)\n",
    "df = df.dropna()"
   ]
  }
 ],
 "metadata": {
  "kernelspec": {
   "display_name": "env_ftw2v2kde",
   "language": "python",
   "name": "python3"
  },
  "language_info": {
   "codemirror_mode": {
    "name": "ipython",
    "version": 3
   },
   "file_extension": ".py",
   "mimetype": "text/x-python",
   "name": "python",
   "nbconvert_exporter": "python",
   "pygments_lexer": "ipython3",
   "version": "3.12.2"
  }
 },
 "nbformat": 4,
 "nbformat_minor": 2
}
